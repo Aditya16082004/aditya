{
 "cells": [
  {
   "cell_type": "code",
   "execution_count": 63,
   "id": "f63eb3e4",
   "metadata": {},
   "outputs": [
    {
     "name": "stdout",
     "output_type": "stream",
     "text": [
      "True\n",
      "False\n",
      "False\n",
      "False\n",
      "False\n",
      "False\n",
      "False\n"
     ]
    }
   ],
   "source": [
    "pokemon=[\"Bulbasaur_21\",\"coocoo_154\",\"spuirtle_42\",\"charmander_09\",\"greninja_07\",\"Gengar_69\",\"mew_11\"]\n",
    "for poke in pokemon:\n",
    "    x=poke.startswith(\"B\")\n",
    "    print(x)\n"
   ]
  },
  {
   "cell_type": "code",
   "execution_count": 79,
   "id": "fba99253",
   "metadata": {},
   "outputs": [
    {
     "name": "stdout",
     "output_type": "stream",
     "text": [
      "['Bulbasaur_21']\n",
      "['Bulbasaur_21', 'spuirtle_42']\n",
      "['Bulbasaur_21', 'spuirtle_42', 'greninja_07']\n",
      "['Bulbasaur_21', 'spuirtle_42', 'greninja_07', 'mew_11']\n"
     ]
    }
   ],
   "source": [
    "pokemon=[\"Bulbasaur_21\",\"coocoo_154\",\"spuirtle_42\",\"charmander_09\",\"greninja_07\",\"Gengar_69\",\"mew_11\"]\n",
    "l2=[]\n",
    "for x in pokemon[::2]:\n",
    "    l2.append(x)\n",
    "    print(l2)\n"
   ]
  },
  {
   "cell_type": "code",
   "execution_count": null,
   "id": "3fa2c727",
   "metadata": {},
   "outputs": [],
   "source": []
  }
 ],
 "metadata": {
  "kernelspec": {
   "display_name": "Python 3 (ipykernel)",
   "language": "python",
   "name": "python3"
  },
  "language_info": {
   "codemirror_mode": {
    "name": "ipython",
    "version": 3
   },
   "file_extension": ".py",
   "mimetype": "text/x-python",
   "name": "python",
   "nbconvert_exporter": "python",
   "pygments_lexer": "ipython3",
   "version": "3.9.12"
  }
 },
 "nbformat": 4,
 "nbformat_minor": 5
}
